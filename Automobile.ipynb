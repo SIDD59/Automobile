{
  "nbformat": 4,
  "nbformat_minor": 0,
  "metadata": {
    "colab": {
      "name": "Linear-Regression-Assignment_ans (2).ipynb",
      "provenance": [],
      "collapsed_sections": []
    },
    "kernelspec": {
      "display_name": "Python 3",
      "language": "python",
      "name": "python3"
    }
  },
  "cells": [
    {
      "cell_type": "code",
      "metadata": {
        "id": "49eTj2vpPtoT"
      },
      "source": [
        "import numpy as np\n",
        "import pandas as pd"
      ],
      "execution_count": 1,
      "outputs": []
    },
    {
      "cell_type": "code",
      "metadata": {
        "id": "HQsce7nbPfp5"
      },
      "source": [
        "auto =pd.read_csv(\"autos_small.csv\")"
      ],
      "execution_count": 2,
      "outputs": []
    },
    {
      "cell_type": "code",
      "metadata": {
        "colab": {
          "base_uri": "https://localhost:8080/",
          "height": 438
        },
        "id": "EiWOE_LUbS3u",
        "outputId": "f5e6b5a3-b254-4e36-9eb0-097f70f11eae"
      },
      "source": [
        "auto"
      ],
      "execution_count": 3,
      "outputs": [
        {
          "output_type": "execute_result",
          "data": {
            "text/html": [
              "<div>\n",
              "<style scoped>\n",
              "    .dataframe tbody tr th:only-of-type {\n",
              "        vertical-align: middle;\n",
              "    }\n",
              "\n",
              "    .dataframe tbody tr th {\n",
              "        vertical-align: top;\n",
              "    }\n",
              "\n",
              "    .dataframe thead th {\n",
              "        text-align: right;\n",
              "    }\n",
              "</style>\n",
              "<table border=\"1\" class=\"dataframe\">\n",
              "  <thead>\n",
              "    <tr style=\"text-align: right;\">\n",
              "      <th></th>\n",
              "      <th>price</th>\n",
              "      <th>name</th>\n",
              "      <th>yearOfRegistration</th>\n",
              "      <th>monthOfRegistration</th>\n",
              "      <th>gearbox</th>\n",
              "      <th>powerPS</th>\n",
              "      <th>model</th>\n",
              "      <th>kilometer</th>\n",
              "      <th>fuelType</th>\n",
              "      <th>brand</th>\n",
              "      <th>vehicleType</th>\n",
              "    </tr>\n",
              "  </thead>\n",
              "  <tbody>\n",
              "    <tr>\n",
              "      <th>0</th>\n",
              "      <td>400</td>\n",
              "      <td>Ford_Escort</td>\n",
              "      <td>1992</td>\n",
              "      <td>8</td>\n",
              "      <td>manuell</td>\n",
              "      <td>89</td>\n",
              "      <td>escort</td>\n",
              "      <td>60000</td>\n",
              "      <td>benzin</td>\n",
              "      <td>ford</td>\n",
              "      <td>kombi</td>\n",
              "    </tr>\n",
              "    <tr>\n",
              "      <th>1</th>\n",
              "      <td>3500</td>\n",
              "      <td>Bmw_320_cabrio</td>\n",
              "      <td>1996</td>\n",
              "      <td>0</td>\n",
              "      <td>manuell</td>\n",
              "      <td>150</td>\n",
              "      <td>3er</td>\n",
              "      <td>125000</td>\n",
              "      <td>NaN</td>\n",
              "      <td>bmw</td>\n",
              "      <td>cabrio</td>\n",
              "    </tr>\n",
              "    <tr>\n",
              "      <th>2</th>\n",
              "      <td>2200</td>\n",
              "      <td>Mercedes_C_230_T_im_top_Zustand_Tuev_Neu!!_Win...</td>\n",
              "      <td>1998</td>\n",
              "      <td>0</td>\n",
              "      <td>manuell</td>\n",
              "      <td>150</td>\n",
              "      <td>c_klasse</td>\n",
              "      <td>150000</td>\n",
              "      <td>benzin</td>\n",
              "      <td>mercedes_benz</td>\n",
              "      <td>kombi</td>\n",
              "    </tr>\n",
              "    <tr>\n",
              "      <th>3</th>\n",
              "      <td>4000</td>\n",
              "      <td>A3_Limousine</td>\n",
              "      <td>2006</td>\n",
              "      <td>7</td>\n",
              "      <td>manuell</td>\n",
              "      <td>0</td>\n",
              "      <td>a3</td>\n",
              "      <td>150000</td>\n",
              "      <td>diesel</td>\n",
              "      <td>audi</td>\n",
              "      <td>limousine</td>\n",
              "    </tr>\n",
              "    <tr>\n",
              "      <th>4</th>\n",
              "      <td>2600</td>\n",
              "      <td>Smart_Smart_cabrio_450_cdi</td>\n",
              "      <td>2002</td>\n",
              "      <td>7</td>\n",
              "      <td>automatik</td>\n",
              "      <td>41</td>\n",
              "      <td>fortwo</td>\n",
              "      <td>150000</td>\n",
              "      <td>diesel</td>\n",
              "      <td>smart</td>\n",
              "      <td>cabrio</td>\n",
              "    </tr>\n",
              "    <tr>\n",
              "      <th>...</th>\n",
              "      <td>...</td>\n",
              "      <td>...</td>\n",
              "      <td>...</td>\n",
              "      <td>...</td>\n",
              "      <td>...</td>\n",
              "      <td>...</td>\n",
              "      <td>...</td>\n",
              "      <td>...</td>\n",
              "      <td>...</td>\n",
              "      <td>...</td>\n",
              "      <td>...</td>\n",
              "    </tr>\n",
              "    <tr>\n",
              "      <th>9995</th>\n",
              "      <td>2650</td>\n",
              "      <td>Opel_Corsa_C_1.2_Twinport</td>\n",
              "      <td>2005</td>\n",
              "      <td>1</td>\n",
              "      <td>manuell</td>\n",
              "      <td>80</td>\n",
              "      <td>corsa</td>\n",
              "      <td>150000</td>\n",
              "      <td>benzin</td>\n",
              "      <td>opel</td>\n",
              "      <td>kleinwagen</td>\n",
              "    </tr>\n",
              "    <tr>\n",
              "      <th>9996</th>\n",
              "      <td>9600</td>\n",
              "      <td>Volkswagen_Touran_2.0_TDI_DPF</td>\n",
              "      <td>2011</td>\n",
              "      <td>6</td>\n",
              "      <td>manuell</td>\n",
              "      <td>140</td>\n",
              "      <td>touran</td>\n",
              "      <td>150000</td>\n",
              "      <td>diesel</td>\n",
              "      <td>volkswagen</td>\n",
              "      <td>bus</td>\n",
              "    </tr>\n",
              "    <tr>\n",
              "      <th>9997</th>\n",
              "      <td>1500</td>\n",
              "      <td>Suche_zuverlaessigen_Kombi</td>\n",
              "      <td>1999</td>\n",
              "      <td>0</td>\n",
              "      <td>NaN</td>\n",
              "      <td>101</td>\n",
              "      <td>astra</td>\n",
              "      <td>150000</td>\n",
              "      <td>NaN</td>\n",
              "      <td>opel</td>\n",
              "      <td>kombi</td>\n",
              "    </tr>\n",
              "    <tr>\n",
              "      <th>9998</th>\n",
              "      <td>970</td>\n",
              "      <td>Renault_Twingo</td>\n",
              "      <td>2002</td>\n",
              "      <td>10</td>\n",
              "      <td>manuell</td>\n",
              "      <td>58</td>\n",
              "      <td>twingo</td>\n",
              "      <td>150000</td>\n",
              "      <td>benzin</td>\n",
              "      <td>renault</td>\n",
              "      <td>kleinwagen</td>\n",
              "    </tr>\n",
              "    <tr>\n",
              "      <th>9999</th>\n",
              "      <td>7990</td>\n",
              "      <td>Renault_Megane_1.6_16V_100_Authentique</td>\n",
              "      <td>2012</td>\n",
              "      <td>4</td>\n",
              "      <td>manuell</td>\n",
              "      <td>101</td>\n",
              "      <td>megane</td>\n",
              "      <td>60000</td>\n",
              "      <td>benzin</td>\n",
              "      <td>renault</td>\n",
              "      <td>limousine</td>\n",
              "    </tr>\n",
              "  </tbody>\n",
              "</table>\n",
              "<p>10000 rows × 11 columns</p>\n",
              "</div>"
            ],
            "text/plain": [
              "      price  ... vehicleType\n",
              "0       400  ...       kombi\n",
              "1      3500  ...      cabrio\n",
              "2      2200  ...       kombi\n",
              "3      4000  ...   limousine\n",
              "4      2600  ...      cabrio\n",
              "...     ...  ...         ...\n",
              "9995   2650  ...  kleinwagen\n",
              "9996   9600  ...         bus\n",
              "9997   1500  ...       kombi\n",
              "9998    970  ...  kleinwagen\n",
              "9999   7990  ...   limousine\n",
              "\n",
              "[10000 rows x 11 columns]"
            ]
          },
          "metadata": {},
          "execution_count": 3
        }
      ]
    },
    {
      "cell_type": "code",
      "metadata": {
        "id": "C3MJB33xdrCj"
      },
      "source": [
        "auto = auto[auto[\"price\"]<auto[\"price\"].quantile(0.99)]"
      ],
      "execution_count": 4,
      "outputs": []
    },
    {
      "cell_type": "code",
      "metadata": {
        "id": "VNAwkppEbWAT"
      },
      "source": [
        "auto= auto[auto[\"yearOfRegistration\"]<auto[\"yearOfRegistration\"].quantile(0.999)]"
      ],
      "execution_count": 5,
      "outputs": []
    },
    {
      "cell_type": "code",
      "metadata": {
        "colab": {
          "base_uri": "https://localhost:8080/"
        },
        "id": "byjRjuUCdIQb",
        "outputId": "31201f2f-c978-4355-82c7-15401f75e830"
      },
      "source": [
        "auto[\"yearOfRegistration\"].max()"
      ],
      "execution_count": 6,
      "outputs": [
        {
          "output_type": "execute_result",
          "data": {
            "text/plain": [
              "2017"
            ]
          },
          "metadata": {},
          "execution_count": 6
        }
      ]
    },
    {
      "cell_type": "code",
      "metadata": {
        "id": "CZNfq-8vc2DI"
      },
      "source": [
        "auto = auto[auto[\"yearOfRegistration\"]>auto[\"yearOfRegistration\"].quantile(0.001)]"
      ],
      "execution_count": 7,
      "outputs": []
    },
    {
      "cell_type": "code",
      "metadata": {
        "id": "xmDSGQmSaBNu"
      },
      "source": [
        "X =auto[\"yearOfRegistration\"].values\n",
        "y=auto['price'].values"
      ],
      "execution_count": 8,
      "outputs": []
    },
    {
      "cell_type": "code",
      "metadata": {
        "colab": {
          "base_uri": "https://localhost:8080/"
        },
        "id": "8tOPgRc6eAYq",
        "outputId": "5cd9a373-b6a2-4c01-9f2d-f98843525c6b"
      },
      "source": [
        "X"
      ],
      "execution_count": 9,
      "outputs": [
        {
          "output_type": "execute_result",
          "data": {
            "text/plain": [
              "array([1992, 1996, 1998, ..., 1999, 2002, 2012])"
            ]
          },
          "metadata": {},
          "execution_count": 9
        }
      ]
    },
    {
      "cell_type": "code",
      "metadata": {
        "colab": {
          "base_uri": "https://localhost:8080/"
        },
        "id": "PNlQ-MlpfBBV",
        "outputId": "22b535e6-e1ee-4cb0-8ed1-7b99e90ea0bb"
      },
      "source": [
        "y"
      ],
      "execution_count": 10,
      "outputs": [
        {
          "output_type": "execute_result",
          "data": {
            "text/plain": [
              "array([ 400, 3500, 2200, ..., 1500,  970, 7990])"
            ]
          },
          "metadata": {},
          "execution_count": 10
        }
      ]
    },
    {
      "cell_type": "markdown",
      "metadata": {
        "id": "NsohS3qCbYOz"
      },
      "source": [
        "SPLITING INTO TRAINING AND TEST DATA"
      ]
    },
    {
      "cell_type": "code",
      "metadata": {
        "id": "anssGLIcaSoW"
      },
      "source": [
        "from sklearn.model_selection import train_test_split"
      ],
      "execution_count": 11,
      "outputs": []
    },
    {
      "cell_type": "code",
      "metadata": {
        "id": "4s6NK7ArbjVf"
      },
      "source": [
        "X_train, X_test, y_train, y_test = train_test_split(X, y, test_size=0.3,random_state=1000)"
      ],
      "execution_count": 12,
      "outputs": []
    },
    {
      "cell_type": "markdown",
      "metadata": {
        "id": "Zrpk8KFYccYN"
      },
      "source": [
        "FEATURE SCALING "
      ]
    },
    {
      "cell_type": "code",
      "metadata": {
        "id": "fvpQHaQScfOj"
      },
      "source": [
        "from sklearn.preprocessing import StandardScaler"
      ],
      "execution_count": 13,
      "outputs": []
    },
    {
      "cell_type": "code",
      "metadata": {
        "id": "a1Olnwvrcmjl"
      },
      "source": [
        "scaler =StandardScaler()\n",
        "scaler1 =StandardScaler()\n",
        "X_train = scaler.fit_transform(X_train.reshape(-1,1))\n",
        "X_test = scaler.transform(X_test.reshape(-1,1))\n",
        "y_train = scaler1.fit_transform(y_train.reshape(-1,1))\n",
        "y_test = scaler1.transform(y_test.reshape(-1,1))"
      ],
      "execution_count": 14,
      "outputs": []
    },
    {
      "cell_type": "code",
      "metadata": {
        "id": "r5hv6nboxagT"
      },
      "source": [
        "# 4. Apply various regression models and find out which model is the best for this dataset"
      ],
      "execution_count": null,
      "outputs": []
    },
    {
      "cell_type": "code",
      "metadata": {
        "id": "YqeYvkmMdKlr"
      },
      "source": [
        "from sklearn.linear_model import LinearRegression"
      ],
      "execution_count": 15,
      "outputs": []
    },
    {
      "cell_type": "code",
      "metadata": {
        "id": "5duO7Lo6dMlS"
      },
      "source": [
        "lr =LinearRegression()"
      ],
      "execution_count": 16,
      "outputs": []
    },
    {
      "cell_type": "code",
      "metadata": {
        "colab": {
          "base_uri": "https://localhost:8080/"
        },
        "id": "tmBbDYj7dVaB",
        "outputId": "14db45c0-3435-40c4-e552-9f2e7cd5b8d5"
      },
      "source": [
        "lr.fit(X_train.reshape(-1,1),y_train.reshape(-1,1))"
      ],
      "execution_count": 17,
      "outputs": [
        {
          "output_type": "execute_result",
          "data": {
            "text/plain": [
              "LinearRegression(copy_X=True, fit_intercept=True, n_jobs=None, normalize=False)"
            ]
          },
          "metadata": {},
          "execution_count": 17
        }
      ]
    },
    {
      "cell_type": "code",
      "metadata": {
        "id": "fCNm7IO0lcNX"
      },
      "source": [
        "y_pred =lr.predict(X_test.reshape(-1,1))"
      ],
      "execution_count": 18,
      "outputs": []
    },
    {
      "cell_type": "code",
      "metadata": {
        "colab": {
          "base_uri": "https://localhost:8080/"
        },
        "id": "RpSrVr_EmiIy",
        "outputId": "f0f4476e-5e1a-4de8-a32d-3e625c2c7e11"
      },
      "source": [
        "y_pred"
      ],
      "execution_count": 19,
      "outputs": [
        {
          "output_type": "execute_result",
          "data": {
            "text/plain": [
              "array([[-0.01779752],\n",
              "       [ 0.49329167],\n",
              "       [-0.24494826],\n",
              "       ...,\n",
              "       [-0.0745852 ],\n",
              "       [ 0.03899017],\n",
              "       [ 0.15256555]])"
            ]
          },
          "metadata": {},
          "execution_count": 19
        }
      ]
    },
    {
      "cell_type": "code",
      "metadata": {
        "id": "3nGSaZ6Vmz08"
      },
      "source": [
        "from sklearn.metrics import mean_squared_error, r2_score"
      ],
      "execution_count": 20,
      "outputs": []
    },
    {
      "cell_type": "code",
      "metadata": {
        "colab": {
          "base_uri": "https://localhost:8080/"
        },
        "id": "nVGNUvjNY-S-",
        "outputId": "9503f2b5-c8d2-47ce-dbe3-e502771e64b1"
      },
      "source": [
        "r2_score(y_test, y_pred)"
      ],
      "execution_count": 21,
      "outputs": [
        {
          "output_type": "execute_result",
          "data": {
            "text/plain": [
              "0.14347109441541972"
            ]
          },
          "metadata": {},
          "execution_count": 21
        }
      ]
    },
    {
      "cell_type": "code",
      "metadata": {
        "colab": {
          "base_uri": "https://localhost:8080/"
        },
        "id": "wRrwbRcnm8dZ",
        "outputId": "0d38f190-b478-411b-f1b0-65ed5d236923"
      },
      "source": [
        "print('Coefficient of determination: %.2f'% r2_score(y_test, y_pred))"
      ],
      "execution_count": 22,
      "outputs": [
        {
          "output_type": "stream",
          "name": "stdout",
          "text": [
            "Coefficient of determination: 0.14\n"
          ]
        }
      ]
    },
    {
      "cell_type": "markdown",
      "metadata": {
        "id": "cqsE1Hm2eORP"
      },
      "source": [
        "# others"
      ]
    },
    {
      "cell_type": "code",
      "metadata": {
        "colab": {
          "base_uri": "https://localhost:8080/"
        },
        "id": "l05pNma6oass",
        "outputId": "b72f1ed9-6570-4073-d761-8f3935ee7b09"
      },
      "source": [
        "from statsmodels.stats.outliers_influence import variance_inflation_factor"
      ],
      "execution_count": null,
      "outputs": [
        {
          "output_type": "stream",
          "name": "stderr",
          "text": [
            "/usr/local/lib/python3.7/dist-packages/statsmodels/tools/_testing.py:19: FutureWarning: pandas.util.testing is deprecated. Use the functions in the public API at pandas.testing instead.\n",
            "  import pandas.util.testing as tm\n"
          ]
        }
      ]
    },
    {
      "cell_type": "code",
      "metadata": {
        "id": "-0x61a-QoiVw"
      },
      "source": [
        "auto2 =pd.read_csv(\"autos_small.csv\")"
      ],
      "execution_count": null,
      "outputs": []
    },
    {
      "cell_type": "code",
      "metadata": {
        "id": "xaEmfhTRollw"
      },
      "source": [
        "cols=['name', 'yearOfRegistration', 'monthOfRegistration', 'gearbox', 'model', 'brand', 'vehicleType']"
      ],
      "execution_count": null,
      "outputs": []
    },
    {
      "cell_type": "code",
      "metadata": {
        "id": "KCGwUBH0o4gh"
      },
      "source": [
        "auto2.drop(cols,axis=1,inplace=True)"
      ],
      "execution_count": null,
      "outputs": []
    },
    {
      "cell_type": "code",
      "metadata": {
        "colab": {
          "base_uri": "https://localhost:8080/",
          "height": 419
        },
        "id": "v4MFGAjYpE-5",
        "outputId": "85728048-2047-4ab9-a26c-2a10270415c8"
      },
      "source": [
        "auto2"
      ],
      "execution_count": null,
      "outputs": [
        {
          "output_type": "execute_result",
          "data": {
            "text/html": [
              "<div>\n",
              "<style scoped>\n",
              "    .dataframe tbody tr th:only-of-type {\n",
              "        vertical-align: middle;\n",
              "    }\n",
              "\n",
              "    .dataframe tbody tr th {\n",
              "        vertical-align: top;\n",
              "    }\n",
              "\n",
              "    .dataframe thead th {\n",
              "        text-align: right;\n",
              "    }\n",
              "</style>\n",
              "<table border=\"1\" class=\"dataframe\">\n",
              "  <thead>\n",
              "    <tr style=\"text-align: right;\">\n",
              "      <th></th>\n",
              "      <th>price</th>\n",
              "      <th>powerPS</th>\n",
              "      <th>kilometer</th>\n",
              "      <th>fuelType</th>\n",
              "    </tr>\n",
              "  </thead>\n",
              "  <tbody>\n",
              "    <tr>\n",
              "      <th>0</th>\n",
              "      <td>400</td>\n",
              "      <td>89</td>\n",
              "      <td>60000</td>\n",
              "      <td>benzin</td>\n",
              "    </tr>\n",
              "    <tr>\n",
              "      <th>1</th>\n",
              "      <td>3500</td>\n",
              "      <td>150</td>\n",
              "      <td>125000</td>\n",
              "      <td>NaN</td>\n",
              "    </tr>\n",
              "    <tr>\n",
              "      <th>2</th>\n",
              "      <td>2200</td>\n",
              "      <td>150</td>\n",
              "      <td>150000</td>\n",
              "      <td>benzin</td>\n",
              "    </tr>\n",
              "    <tr>\n",
              "      <th>3</th>\n",
              "      <td>4000</td>\n",
              "      <td>0</td>\n",
              "      <td>150000</td>\n",
              "      <td>diesel</td>\n",
              "    </tr>\n",
              "    <tr>\n",
              "      <th>4</th>\n",
              "      <td>2600</td>\n",
              "      <td>41</td>\n",
              "      <td>150000</td>\n",
              "      <td>diesel</td>\n",
              "    </tr>\n",
              "    <tr>\n",
              "      <th>...</th>\n",
              "      <td>...</td>\n",
              "      <td>...</td>\n",
              "      <td>...</td>\n",
              "      <td>...</td>\n",
              "    </tr>\n",
              "    <tr>\n",
              "      <th>9995</th>\n",
              "      <td>2650</td>\n",
              "      <td>80</td>\n",
              "      <td>150000</td>\n",
              "      <td>benzin</td>\n",
              "    </tr>\n",
              "    <tr>\n",
              "      <th>9996</th>\n",
              "      <td>9600</td>\n",
              "      <td>140</td>\n",
              "      <td>150000</td>\n",
              "      <td>diesel</td>\n",
              "    </tr>\n",
              "    <tr>\n",
              "      <th>9997</th>\n",
              "      <td>1500</td>\n",
              "      <td>101</td>\n",
              "      <td>150000</td>\n",
              "      <td>NaN</td>\n",
              "    </tr>\n",
              "    <tr>\n",
              "      <th>9998</th>\n",
              "      <td>970</td>\n",
              "      <td>58</td>\n",
              "      <td>150000</td>\n",
              "      <td>benzin</td>\n",
              "    </tr>\n",
              "    <tr>\n",
              "      <th>9999</th>\n",
              "      <td>7990</td>\n",
              "      <td>101</td>\n",
              "      <td>60000</td>\n",
              "      <td>benzin</td>\n",
              "    </tr>\n",
              "  </tbody>\n",
              "</table>\n",
              "<p>10000 rows × 4 columns</p>\n",
              "</div>"
            ],
            "text/plain": [
              "      price  powerPS  kilometer fuelType\n",
              "0       400       89      60000   benzin\n",
              "1      3500      150     125000      NaN\n",
              "2      2200      150     150000   benzin\n",
              "3      4000        0     150000   diesel\n",
              "4      2600       41     150000   diesel\n",
              "...     ...      ...        ...      ...\n",
              "9995   2650       80     150000   benzin\n",
              "9996   9600      140     150000   diesel\n",
              "9997   1500      101     150000      NaN\n",
              "9998    970       58     150000   benzin\n",
              "9999   7990      101      60000   benzin\n",
              "\n",
              "[10000 rows x 4 columns]"
            ]
          },
          "metadata": {},
          "execution_count": 124
        }
      ]
    },
    {
      "cell_type": "code",
      "metadata": {
        "id": "H-TqrINRpSbP"
      },
      "source": [
        "auto2['fuelType'] = auto2['fuelType'].fillna(auto2['fuelType'].mode()[0])"
      ],
      "execution_count": null,
      "outputs": []
    },
    {
      "cell_type": "code",
      "metadata": {
        "colab": {
          "base_uri": "https://localhost:8080/",
          "height": 419
        },
        "id": "bJcqG1BzqCki",
        "outputId": "4c8606e4-6bbe-4ab7-8923-97c8756b99be"
      },
      "source": [
        "auto2"
      ],
      "execution_count": null,
      "outputs": [
        {
          "output_type": "execute_result",
          "data": {
            "text/html": [
              "<div>\n",
              "<style scoped>\n",
              "    .dataframe tbody tr th:only-of-type {\n",
              "        vertical-align: middle;\n",
              "    }\n",
              "\n",
              "    .dataframe tbody tr th {\n",
              "        vertical-align: top;\n",
              "    }\n",
              "\n",
              "    .dataframe thead th {\n",
              "        text-align: right;\n",
              "    }\n",
              "</style>\n",
              "<table border=\"1\" class=\"dataframe\">\n",
              "  <thead>\n",
              "    <tr style=\"text-align: right;\">\n",
              "      <th></th>\n",
              "      <th>price</th>\n",
              "      <th>powerPS</th>\n",
              "      <th>kilometer</th>\n",
              "      <th>fuelType</th>\n",
              "    </tr>\n",
              "  </thead>\n",
              "  <tbody>\n",
              "    <tr>\n",
              "      <th>0</th>\n",
              "      <td>400</td>\n",
              "      <td>89</td>\n",
              "      <td>60000</td>\n",
              "      <td>benzin</td>\n",
              "    </tr>\n",
              "    <tr>\n",
              "      <th>1</th>\n",
              "      <td>3500</td>\n",
              "      <td>150</td>\n",
              "      <td>125000</td>\n",
              "      <td>benzin</td>\n",
              "    </tr>\n",
              "    <tr>\n",
              "      <th>2</th>\n",
              "      <td>2200</td>\n",
              "      <td>150</td>\n",
              "      <td>150000</td>\n",
              "      <td>benzin</td>\n",
              "    </tr>\n",
              "    <tr>\n",
              "      <th>3</th>\n",
              "      <td>4000</td>\n",
              "      <td>0</td>\n",
              "      <td>150000</td>\n",
              "      <td>diesel</td>\n",
              "    </tr>\n",
              "    <tr>\n",
              "      <th>4</th>\n",
              "      <td>2600</td>\n",
              "      <td>41</td>\n",
              "      <td>150000</td>\n",
              "      <td>diesel</td>\n",
              "    </tr>\n",
              "    <tr>\n",
              "      <th>...</th>\n",
              "      <td>...</td>\n",
              "      <td>...</td>\n",
              "      <td>...</td>\n",
              "      <td>...</td>\n",
              "    </tr>\n",
              "    <tr>\n",
              "      <th>9995</th>\n",
              "      <td>2650</td>\n",
              "      <td>80</td>\n",
              "      <td>150000</td>\n",
              "      <td>benzin</td>\n",
              "    </tr>\n",
              "    <tr>\n",
              "      <th>9996</th>\n",
              "      <td>9600</td>\n",
              "      <td>140</td>\n",
              "      <td>150000</td>\n",
              "      <td>diesel</td>\n",
              "    </tr>\n",
              "    <tr>\n",
              "      <th>9997</th>\n",
              "      <td>1500</td>\n",
              "      <td>101</td>\n",
              "      <td>150000</td>\n",
              "      <td>benzin</td>\n",
              "    </tr>\n",
              "    <tr>\n",
              "      <th>9998</th>\n",
              "      <td>970</td>\n",
              "      <td>58</td>\n",
              "      <td>150000</td>\n",
              "      <td>benzin</td>\n",
              "    </tr>\n",
              "    <tr>\n",
              "      <th>9999</th>\n",
              "      <td>7990</td>\n",
              "      <td>101</td>\n",
              "      <td>60000</td>\n",
              "      <td>benzin</td>\n",
              "    </tr>\n",
              "  </tbody>\n",
              "</table>\n",
              "<p>10000 rows × 4 columns</p>\n",
              "</div>"
            ],
            "text/plain": [
              "      price  powerPS  kilometer fuelType\n",
              "0       400       89      60000   benzin\n",
              "1      3500      150     125000   benzin\n",
              "2      2200      150     150000   benzin\n",
              "3      4000        0     150000   diesel\n",
              "4      2600       41     150000   diesel\n",
              "...     ...      ...        ...      ...\n",
              "9995   2650       80     150000   benzin\n",
              "9996   9600      140     150000   diesel\n",
              "9997   1500      101     150000   benzin\n",
              "9998    970       58     150000   benzin\n",
              "9999   7990      101      60000   benzin\n",
              "\n",
              "[10000 rows x 4 columns]"
            ]
          },
          "metadata": {},
          "execution_count": 126
        }
      ]
    },
    {
      "cell_type": "code",
      "metadata": {
        "id": "vVDIBKttqJQE"
      },
      "source": [
        "auto2 = pd.get_dummies(auto2, columns=['fuelType'],drop_first=True)"
      ],
      "execution_count": null,
      "outputs": []
    },
    {
      "cell_type": "code",
      "metadata": {
        "colab": {
          "base_uri": "https://localhost:8080/",
          "height": 439
        },
        "id": "jFGw4FYnrIjV",
        "outputId": "6b5f8fce-7179-4c0a-e521-ffdff15571d5"
      },
      "source": [
        "auto2"
      ],
      "execution_count": null,
      "outputs": [
        {
          "output_type": "execute_result",
          "data": {
            "text/html": [
              "<div>\n",
              "<style scoped>\n",
              "    .dataframe tbody tr th:only-of-type {\n",
              "        vertical-align: middle;\n",
              "    }\n",
              "\n",
              "    .dataframe tbody tr th {\n",
              "        vertical-align: top;\n",
              "    }\n",
              "\n",
              "    .dataframe thead th {\n",
              "        text-align: right;\n",
              "    }\n",
              "</style>\n",
              "<table border=\"1\" class=\"dataframe\">\n",
              "  <thead>\n",
              "    <tr style=\"text-align: right;\">\n",
              "      <th></th>\n",
              "      <th>price</th>\n",
              "      <th>powerPS</th>\n",
              "      <th>kilometer</th>\n",
              "      <th>fuelType_benzin</th>\n",
              "      <th>fuelType_cng</th>\n",
              "      <th>fuelType_diesel</th>\n",
              "      <th>fuelType_elektro</th>\n",
              "      <th>fuelType_hybrid</th>\n",
              "      <th>fuelType_lpg</th>\n",
              "    </tr>\n",
              "  </thead>\n",
              "  <tbody>\n",
              "    <tr>\n",
              "      <th>0</th>\n",
              "      <td>400</td>\n",
              "      <td>89</td>\n",
              "      <td>60000</td>\n",
              "      <td>1</td>\n",
              "      <td>0</td>\n",
              "      <td>0</td>\n",
              "      <td>0</td>\n",
              "      <td>0</td>\n",
              "      <td>0</td>\n",
              "    </tr>\n",
              "    <tr>\n",
              "      <th>1</th>\n",
              "      <td>3500</td>\n",
              "      <td>150</td>\n",
              "      <td>125000</td>\n",
              "      <td>1</td>\n",
              "      <td>0</td>\n",
              "      <td>0</td>\n",
              "      <td>0</td>\n",
              "      <td>0</td>\n",
              "      <td>0</td>\n",
              "    </tr>\n",
              "    <tr>\n",
              "      <th>2</th>\n",
              "      <td>2200</td>\n",
              "      <td>150</td>\n",
              "      <td>150000</td>\n",
              "      <td>1</td>\n",
              "      <td>0</td>\n",
              "      <td>0</td>\n",
              "      <td>0</td>\n",
              "      <td>0</td>\n",
              "      <td>0</td>\n",
              "    </tr>\n",
              "    <tr>\n",
              "      <th>3</th>\n",
              "      <td>4000</td>\n",
              "      <td>0</td>\n",
              "      <td>150000</td>\n",
              "      <td>0</td>\n",
              "      <td>0</td>\n",
              "      <td>1</td>\n",
              "      <td>0</td>\n",
              "      <td>0</td>\n",
              "      <td>0</td>\n",
              "    </tr>\n",
              "    <tr>\n",
              "      <th>4</th>\n",
              "      <td>2600</td>\n",
              "      <td>41</td>\n",
              "      <td>150000</td>\n",
              "      <td>0</td>\n",
              "      <td>0</td>\n",
              "      <td>1</td>\n",
              "      <td>0</td>\n",
              "      <td>0</td>\n",
              "      <td>0</td>\n",
              "    </tr>\n",
              "    <tr>\n",
              "      <th>...</th>\n",
              "      <td>...</td>\n",
              "      <td>...</td>\n",
              "      <td>...</td>\n",
              "      <td>...</td>\n",
              "      <td>...</td>\n",
              "      <td>...</td>\n",
              "      <td>...</td>\n",
              "      <td>...</td>\n",
              "      <td>...</td>\n",
              "    </tr>\n",
              "    <tr>\n",
              "      <th>9995</th>\n",
              "      <td>2650</td>\n",
              "      <td>80</td>\n",
              "      <td>150000</td>\n",
              "      <td>1</td>\n",
              "      <td>0</td>\n",
              "      <td>0</td>\n",
              "      <td>0</td>\n",
              "      <td>0</td>\n",
              "      <td>0</td>\n",
              "    </tr>\n",
              "    <tr>\n",
              "      <th>9996</th>\n",
              "      <td>9600</td>\n",
              "      <td>140</td>\n",
              "      <td>150000</td>\n",
              "      <td>0</td>\n",
              "      <td>0</td>\n",
              "      <td>1</td>\n",
              "      <td>0</td>\n",
              "      <td>0</td>\n",
              "      <td>0</td>\n",
              "    </tr>\n",
              "    <tr>\n",
              "      <th>9997</th>\n",
              "      <td>1500</td>\n",
              "      <td>101</td>\n",
              "      <td>150000</td>\n",
              "      <td>1</td>\n",
              "      <td>0</td>\n",
              "      <td>0</td>\n",
              "      <td>0</td>\n",
              "      <td>0</td>\n",
              "      <td>0</td>\n",
              "    </tr>\n",
              "    <tr>\n",
              "      <th>9998</th>\n",
              "      <td>970</td>\n",
              "      <td>58</td>\n",
              "      <td>150000</td>\n",
              "      <td>1</td>\n",
              "      <td>0</td>\n",
              "      <td>0</td>\n",
              "      <td>0</td>\n",
              "      <td>0</td>\n",
              "      <td>0</td>\n",
              "    </tr>\n",
              "    <tr>\n",
              "      <th>9999</th>\n",
              "      <td>7990</td>\n",
              "      <td>101</td>\n",
              "      <td>60000</td>\n",
              "      <td>1</td>\n",
              "      <td>0</td>\n",
              "      <td>0</td>\n",
              "      <td>0</td>\n",
              "      <td>0</td>\n",
              "      <td>0</td>\n",
              "    </tr>\n",
              "  </tbody>\n",
              "</table>\n",
              "<p>10000 rows × 9 columns</p>\n",
              "</div>"
            ],
            "text/plain": [
              "      price  powerPS  ...  fuelType_hybrid  fuelType_lpg\n",
              "0       400       89  ...                0             0\n",
              "1      3500      150  ...                0             0\n",
              "2      2200      150  ...                0             0\n",
              "3      4000        0  ...                0             0\n",
              "4      2600       41  ...                0             0\n",
              "...     ...      ...  ...              ...           ...\n",
              "9995   2650       80  ...                0             0\n",
              "9996   9600      140  ...                0             0\n",
              "9997   1500      101  ...                0             0\n",
              "9998    970       58  ...                0             0\n",
              "9999   7990      101  ...                0             0\n",
              "\n",
              "[10000 rows x 9 columns]"
            ]
          },
          "metadata": {},
          "execution_count": 128
        }
      ]
    },
    {
      "cell_type": "code",
      "metadata": {
        "id": "PL1VHd3brjPE"
      },
      "source": [
        "X = auto2[['price', 'powerPS', 'kilometer']]"
      ],
      "execution_count": null,
      "outputs": []
    },
    {
      "cell_type": "code",
      "metadata": {
        "id": "fUt69nnzr8G-"
      },
      "source": [
        "vif_data = pd.DataFrame()\n",
        "vif_data[\"feature\"] = X.columns"
      ],
      "execution_count": null,
      "outputs": []
    },
    {
      "cell_type": "code",
      "metadata": {
        "colab": {
          "base_uri": "https://localhost:8080/"
        },
        "id": "kT38EBcnsBsM",
        "outputId": "6168f77f-a6fa-4eb7-9cf0-c0f246982bb9"
      },
      "source": [
        "vif_data[\"VIF\"] = [variance_inflation_factor(X.values, i)\n",
        "                          for i in range(len(X.columns))]\n",
        "  \n",
        "print(vif_data)"
      ],
      "execution_count": null,
      "outputs": [
        {
          "output_type": "stream",
          "name": "stdout",
          "text": [
            "     feature       VIF\n",
            "0      price  1.002417\n",
            "1    powerPS  1.113691\n",
            "2  kilometer  1.115448\n"
          ]
        }
      ]
    }
  ]
}